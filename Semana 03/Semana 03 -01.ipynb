{
 "cells": [
  {
   "cell_type": "markdown",
   "id": "7e781e0b",
   "metadata": {},
   "source": [
    "# Semana03\n",
    "Carhuancho Almanza Daniel Justo"
   ]
  },
  {
   "cell_type": "markdown",
   "id": "fd9eef47",
   "metadata": {},
   "source": [
    "Temas:\n",
    "    1.Numeros\n",
    "    2.Variables\n",
    "    3.Manejo de Cadenas\n",
    "    4.Ingreso de datos por teclado\n",
    "    5.Operaciones\n",
    "    "
   ]
  },
  {
   "cell_type": "code",
   "execution_count": 13,
   "id": "67f8c4ad",
   "metadata": {},
   "outputs": [
    {
     "data": {
      "text/plain": [
       "13"
      ]
     },
     "execution_count": 13,
     "metadata": {},
     "output_type": "execute_result"
    }
   ],
   "source": [
    "9+4\n"
   ]
  },
  {
   "cell_type": "code",
   "execution_count": null,
   "id": "13947b46",
   "metadata": {},
   "outputs": [],
   "source": []
  }
 ],
 "metadata": {
  "kernelspec": {
   "display_name": "Python 3 (ipykernel)",
   "language": "python",
   "name": "python3"
  },
  "language_info": {
   "codemirror_mode": {
    "name": "ipython",
    "version": 3
   },
   "file_extension": ".py",
   "mimetype": "text/x-python",
   "name": "python",
   "nbconvert_exporter": "python",
   "pygments_lexer": "ipython3",
   "version": "3.9.12"
  }
 },
 "nbformat": 4,
 "nbformat_minor": 5
}
