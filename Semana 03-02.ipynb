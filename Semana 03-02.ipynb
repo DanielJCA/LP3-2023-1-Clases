{
 "cells": [
  {
   "cell_type": "markdown",
   "id": "75574a48",
   "metadata": {},
   "source": [
    "# Semana 03\n",
    "Carhuancho Almanza Daniel Justo"
   ]
  },
  {
   "cell_type": "raw",
   "id": "e9c4464e",
   "metadata": {},
   "source": [
    " Temas:\n",
    "    1.Numeros\n",
    "    2.Variables\n",
    "    3.Manejo de Cadenas\n",
    "    4.Ingreso de datos por teclado\n",
    "    5.Operaciones\n",
    "    \n",
    "    "
   ]
  },
  {
   "cell_type": "markdown",
   "id": "86df3406",
   "metadata": {},
   "source": [
    "2. Variables"
   ]
  },
  {
   "cell_type": "code",
   "execution_count": 6,
   "id": "9e1115dd",
   "metadata": {},
   "outputs": [],
   "source": [
    "#Siempre deben iniciar con una letra a o un guion abajo. (nunca con un numero o simbolo)"
   ]
  },
  {
   "cell_type": "code",
   "execution_count": 7,
   "id": "f4f1efb1",
   "metadata": {},
   "outputs": [],
   "source": [
    "edad =19"
   ]
  },
  {
   "cell_type": "code",
   "execution_count": 8,
   "id": "ac77ad68",
   "metadata": {},
   "outputs": [
    {
     "data": {
      "text/plain": [
       "19"
      ]
     },
     "execution_count": 8,
     "metadata": {},
     "output_type": "execute_result"
    }
   ],
   "source": [
    "edad"
   ]
  },
  {
   "cell_type": "code",
   "execution_count": 9,
   "id": "06b8a9e8",
   "metadata": {},
   "outputs": [],
   "source": [
    "nombre =\"Daniel\""
   ]
  },
  {
   "cell_type": "code",
   "execution_count": 10,
   "id": "8cd9154f",
   "metadata": {},
   "outputs": [
    {
     "data": {
      "text/plain": [
       "'Daniel'"
      ]
     },
     "execution_count": 10,
     "metadata": {},
     "output_type": "execute_result"
    }
   ],
   "source": [
    "nombre"
   ]
  },
  {
   "cell_type": "code",
   "execution_count": 11,
   "id": "85aef955",
   "metadata": {},
   "outputs": [],
   "source": [
    "apellido=\"Carhuancho\""
   ]
  },
  {
   "cell_type": "code",
   "execution_count": 12,
   "id": "f43763c0",
   "metadata": {},
   "outputs": [
    {
     "data": {
      "text/plain": [
       "'Carhuancho'"
      ]
     },
     "execution_count": 12,
     "metadata": {},
     "output_type": "execute_result"
    }
   ],
   "source": [
    "apellido"
   ]
  },
  {
   "cell_type": "code",
   "execution_count": 14,
   "id": "9319d809",
   "metadata": {},
   "outputs": [],
   "source": [
    "nombrecompleto=\"DanielCarhuancho\""
   ]
  },
  {
   "cell_type": "code",
   "execution_count": 15,
   "id": "616a369d",
   "metadata": {},
   "outputs": [
    {
     "data": {
      "text/plain": [
       "'DanielCarhuancho'"
      ]
     },
     "execution_count": 15,
     "metadata": {},
     "output_type": "execute_result"
    }
   ],
   "source": [
    "nombrecompleto"
   ]
  },
  {
   "cell_type": "code",
   "execution_count": 17,
   "id": "b79f5a40",
   "metadata": {},
   "outputs": [],
   "source": [
    "talla=1.66 "
   ]
  },
  {
   "cell_type": "code",
   "execution_count": 18,
   "id": "ab955b0a",
   "metadata": {},
   "outputs": [
    {
     "data": {
      "text/plain": [
       "1.66"
      ]
     },
     "execution_count": 18,
     "metadata": {},
     "output_type": "execute_result"
    }
   ],
   "source": [
    "talla"
   ]
  },
  {
   "cell_type": "code",
   "execution_count": 19,
   "id": "e8c64990",
   "metadata": {},
   "outputs": [
    {
     "data": {
      "text/plain": [
       "float"
      ]
     },
     "execution_count": 19,
     "metadata": {},
     "output_type": "execute_result"
    }
   ],
   "source": [
    "type (talla)"
   ]
  },
  {
   "cell_type": "code",
   "execution_count": 20,
   "id": "6d17f335",
   "metadata": {},
   "outputs": [
    {
     "data": {
      "text/plain": [
       "'100'"
      ]
     },
     "execution_count": 20,
     "metadata": {},
     "output_type": "execute_result"
    }
   ],
   "source": [
    "numero=100\n",
    "cadena=str(numero)\n",
    "cadena"
   ]
  },
  {
   "cell_type": "code",
   "execution_count": 24,
   "id": "76184721",
   "metadata": {},
   "outputs": [
    {
     "data": {
      "text/plain": [
       "str"
      ]
     },
     "execution_count": 24,
     "metadata": {},
     "output_type": "execute_result"
    }
   ],
   "source": [
    "type(cadena)"
   ]
  },
  {
   "cell_type": "code",
   "execution_count": 26,
   "id": "24ddcbea",
   "metadata": {},
   "outputs": [
    {
     "data": {
      "text/plain": [
       "50"
      ]
     },
     "execution_count": 26,
     "metadata": {},
     "output_type": "execute_result"
    }
   ],
   "source": [
    "cadena2='50'\n",
    "numero2=int(cadena2)\n",
    "numero2"
   ]
  },
  {
   "cell_type": "code",
   "execution_count": 27,
   "id": "80a3eaba",
   "metadata": {},
   "outputs": [
    {
     "data": {
      "text/plain": [
       "50.0"
      ]
     },
     "execution_count": 27,
     "metadata": {},
     "output_type": "execute_result"
    }
   ],
   "source": [
    "cadena2=\"50\"\n",
    "numero2=float(cadena2)\n",
    "numero2"
   ]
  },
  {
   "cell_type": "code",
   "execution_count": 28,
   "id": "4a5a6e04",
   "metadata": {},
   "outputs": [
    {
     "data": {
      "text/plain": [
       "50.0"
      ]
     },
     "execution_count": 28,
     "metadata": {},
     "output_type": "execute_result"
    }
   ],
   "source": [
    "float(numero2)"
   ]
  },
  {
   "cell_type": "code",
   "execution_count": 29,
   "id": "205747cb",
   "metadata": {},
   "outputs": [
    {
     "data": {
      "text/plain": [
       "float"
      ]
     },
     "execution_count": 29,
     "metadata": {},
     "output_type": "execute_result"
    }
   ],
   "source": [
    "type(numero2)"
   ]
  }
 ],
 "metadata": {
  "kernelspec": {
   "display_name": "Python 3 (ipykernel)",
   "language": "python",
   "name": "python3"
  },
  "language_info": {
   "codemirror_mode": {
    "name": "ipython",
    "version": 3
   },
   "file_extension": ".py",
   "mimetype": "text/x-python",
   "name": "python",
   "nbconvert_exporter": "python",
   "pygments_lexer": "ipython3",
   "version": "3.9.12"
  }
 },
 "nbformat": 4,
 "nbformat_minor": 5
}
